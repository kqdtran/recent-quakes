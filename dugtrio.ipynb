{
 "metadata": {
  "name": ""
 },
 "nbformat": 3,
 "nbformat_minor": 0,
 "worksheets": [
  {
   "cells": [
    {
     "cell_type": "markdown",
     "metadata": {},
     "source": [
      "**Import the necessary packages, and load data from the usgs url**"
     ]
    },
    {
     "cell_type": "code",
     "collapsed": false,
     "input": [
      "import urllib\n",
      "import json\n",
      "from cPickle import load, dump\n",
      "import pandas as pd\n",
      "from pprint import pprint\n",
      "\n",
      "url = 'http://earthquake.usgs.gov/earthquakes/feed/v1.0/summary/significant_week.geojson'\n",
      "d = json.loads(urllib.urlopen(url).read())\n",
      "\n",
      "data = pd.DataFrame(d.items())"
     ],
     "language": "python",
     "metadata": {},
     "outputs": [],
     "prompt_number": 131
    },
    {
     "cell_type": "code",
     "collapsed": false,
     "input": [
      "data"
     ],
     "language": "python",
     "metadata": {},
     "outputs": [
      {
       "html": [
        "<div style=\"max-height:1000px;max-width:1500px;overflow:auto;\">\n",
        "<table border=\"1\" class=\"dataframe\">\n",
        "  <thead>\n",
        "    <tr style=\"text-align: right;\">\n",
        "      <th></th>\n",
        "      <th>0</th>\n",
        "      <th>1</th>\n",
        "    </tr>\n",
        "  </thead>\n",
        "  <tbody>\n",
        "    <tr>\n",
        "      <th>0</th>\n",
        "      <td>     type</td>\n",
        "      <td>                                 FeatureCollection</td>\n",
        "    </tr>\n",
        "    <tr>\n",
        "      <th>1</th>\n",
        "      <td> features</td>\n",
        "      <td> [{u'geometry': {u'type': u'Point', u'coordinat...</td>\n",
        "    </tr>\n",
        "    <tr>\n",
        "      <th>2</th>\n",
        "      <td>     bbox</td>\n",
        "      <td> [-110.1778, -6.4873, 7.98, 154.928, 26.2676, 5...</td>\n",
        "    </tr>\n",
        "    <tr>\n",
        "      <th>3</th>\n",
        "      <td> metadata</td>\n",
        "      <td> {u'status': 200, u'count': 3, u'title': u'USGS...</td>\n",
        "    </tr>\n",
        "  </tbody>\n",
        "</table>\n",
        "</div>"
       ],
       "metadata": {},
       "output_type": "pyout",
       "prompt_number": 132,
       "text": [
        "          0                                                  1\n",
        "0      type                                  FeatureCollection\n",
        "1  features  [{u'geometry': {u'type': u'Point', u'coordinat...\n",
        "2      bbox  [-110.1778, -6.4873, 7.98, 154.928, 26.2676, 5...\n",
        "3  metadata  {u'status': 200, u'count': 3, u'title': u'USGS..."
       ]
      }
     ],
     "prompt_number": 132
    },
    {
     "cell_type": "markdown",
     "metadata": {},
     "source": [
      "**Retrieve the features, i.e. all the earthquake data**"
     ]
    },
    {
     "cell_type": "code",
     "collapsed": false,
     "input": [
      "features = data[1].values[1]\n",
      "pprint(features)"
     ],
     "language": "python",
     "metadata": {},
     "outputs": [
      {
       "output_type": "stream",
       "stream": "stdout",
       "text": [
        "[{u'geometry': {u'coordinates': [-110.1778, 26.2676, 7.98],\n",
        "                u'type': u'Point'},\n",
        "  u'id': u'usb000khbc',\n",
        "  u'properties': {u'alert': u'green',\n",
        "                  u'cdi': 4.8,\n",
        "                  u'code': u'b000khbc',\n",
        "                  u'detail': u'http://earthquake.usgs.gov/earthquakes/feed/v1.0/detail/usb000khbc.geojson',\n",
        "                  u'dmin': 2.825,\n",
        "                  u'felt': 30,\n",
        "                  u'gap': 77,\n",
        "                  u'ids': u',pt13292000,at00muxgfn,usb000khbc,',\n",
        "                  u'mag': 6.5,\n",
        "                  u'magType': u'mwb',\n",
        "                  u'mmi': 5.17,\n",
        "                  u'net': u'us',\n",
        "                  u'nst': None,\n",
        "                  u'place': u'75km SW of Etchoropo, Mexico',\n",
        "                  u'rms': 1.3,\n",
        "                  u'sig': 664,\n",
        "                  u'sources': u',pt,at,us,',\n",
        "                  u'status': u'reviewed',\n",
        "                  u'time': 1382205296970L,\n",
        "                  u'title': u'M 6.5 - 75km SW of Etchoropo, Mexico',\n",
        "                  u'tsunami': 1,\n",
        "                  u'type': u'earthquake',\n",
        "                  u'types': u',cap,dyfi,general-link,geoserve,impact-link,losspager,moment-tensor,nearby-cities,origin,phase-data,shakemap,tectonic-summary,',\n",
        "                  u'tz': -420,\n",
        "                  u'updated': 1382224140814L,\n",
        "                  u'url': u'http://earthquake.usgs.gov/earthquakes/eventpage/usb000khbc'},\n",
        "  u'type': u'Feature'},\n",
        " {u'geometry': {u'coordinates': [154.928, -6.4873, 54.06], u'type': u'Point'},\n",
        "  u'id': u'usb000kemb',\n",
        "  u'properties': {u'alert': u'green',\n",
        "                  u'cdi': 2,\n",
        "                  u'code': u'b000kemb',\n",
        "                  u'detail': u'http://earthquake.usgs.gov/earthquakes/feed/v1.0/detail/usb000kemb.geojson',\n",
        "                  u'dmin': 5.771,\n",
        "                  u'felt': 1,\n",
        "                  u'gap': 13,\n",
        "                  u'ids': u',pt13289000,at00murbvq,usb000kemb,gcmt20131016103100,',\n",
        "                  u'mag': 6.8,\n",
        "                  u'magType': u'mww',\n",
        "                  u'mmi': 6.98,\n",
        "                  u'net': u'us',\n",
        "                  u'nst': None,\n",
        "                  u'place': u'64km WSW of Panguna, Papua New Guinea',\n",
        "                  u'rms': 1.21,\n",
        "                  u'sig': 712,\n",
        "                  u'sources': u',pt,at,us,gcmt,',\n",
        "                  u'status': u'reviewed',\n",
        "                  u'time': 1381919460930L,\n",
        "                  u'title': u'M 6.8 - 64km WSW of Panguna, Papua New Guinea',\n",
        "                  u'tsunami': 1,\n",
        "                  u'type': u'earthquake',\n",
        "                  u'types': u',cap,dyfi,general-link,geoserve,impact-link,losspager,moment-tensor,nearby-cities,origin,phase-data,shakemap,tectonic-summary,',\n",
        "                  u'tz': 600,\n",
        "                  u'updated': 1381935369000L,\n",
        "                  u'url': u'http://earthquake.usgs.gov/earthquakes/eventpage/usb000kemb'},\n",
        "  u'type': u'Feature'},\n",
        " {u'geometry': {u'coordinates': [124.0115, 9.8662, 20], u'type': u'Point'},\n",
        "  u'id': u'usb000kdb4',\n",
        "  u'properties': {u'alert': u'orange',\n",
        "                  u'cdi': 9.1,\n",
        "                  u'code': u'b000kdb4',\n",
        "                  u'detail': u'http://earthquake.usgs.gov/earthquakes/feed/v1.0/detail/usb000kdb4.geojson',\n",
        "                  u'dmin': 3.181,\n",
        "                  u'felt': 168,\n",
        "                  u'gap': 25,\n",
        "                  u'ids': u',usb000kdb4,pt13288000,at00muool4,gcmt20131015001232,',\n",
        "                  u'mag': 7.1,\n",
        "                  u'magType': u'mww',\n",
        "                  u'mmi': 9.39,\n",
        "                  u'net': u'us',\n",
        "                  u'nst': None,\n",
        "                  u'place': u'2km NE of Catigbian, Philippines',\n",
        "                  u'rms': 1.12,\n",
        "                  u'sig': 1153,\n",
        "                  u'sources': u',us,pt,at,gcmt,',\n",
        "                  u'status': u'reviewed',\n",
        "                  u'time': 1381795952900L,\n",
        "                  u'title': u'M 7.1 - 2km NE of Catigbian, Philippines',\n",
        "                  u'tsunami': 1,\n",
        "                  u'type': u'earthquake',\n",
        "                  u'types': u',associate,cap,dyfi,finite-fault,general-link,geoserve,impact-link,losspager,moment-tensor,nearby-cities,origin,phase-data,shakemap,tectonic-summary,',\n",
        "                  u'tz': 480,\n",
        "                  u'updated': 1382185948996L,\n",
        "                  u'url': u'http://earthquake.usgs.gov/earthquakes/eventpage/usb000kdb4'},\n",
        "  u'type': u'Feature'}]\n"
       ]
      }
     ],
     "prompt_number": 133
    },
    {
     "cell_type": "heading",
     "level": 2,
     "metadata": {},
     "source": [
      "*Note: ONLY EXECUTE THIS NEXT TWO BLOCKS IF YOU WANT TO EXTRACT NEW LIVE DATA. OTHERWISE SEE BELOW*"
     ]
    },
    {
     "cell_type": "markdown",
     "metadata": {},
     "source": [
      "**Loop over each earthquake, extract the important data like lat, lon, magnitude, etc.**"
     ]
    },
    {
     "cell_type": "code",
     "collapsed": false,
     "input": [
      "latList = []    # Latitude\n",
      "lonList = []    # Longitude\n",
      "altList = []    # Altitude\n",
      "magList = []    # Magnitude\n",
      "srcList = []    # Source\n",
      "placeList = []  # Place\n",
      "timeList = []   # Time\n",
      "\n",
      "for item in features:\n",
      "    geometry = item['geometry']\n",
      "    properties = item['properties']\n",
      "    \n",
      "    # Extract coordinates\n",
      "    lonList.append(geometry['coordinates'][0])\n",
      "    latList.append(geometry['coordinates'][1])\n",
      "    altList.append(geometry['coordinates'][2])\n",
      "    \n",
      "    # Extract other information\n",
      "    srcList.append(properties['sources'])\n",
      "    placeList.append(properties['place'])\n",
      "    timeList.append(properties['time'])\n",
      "    magList.append(properties['mag'])"
     ],
     "language": "python",
     "metadata": {},
     "outputs": [],
     "prompt_number": 134
    },
    {
     "cell_type": "markdown",
     "metadata": {},
     "source": [
      "**Turn data into a dictionary, and dump it into a pickle file for local cache**"
     ]
    },
    {
     "cell_type": "code",
     "collapsed": false,
     "input": [
      "allQuakes = {'src': srcList, 'time': timeList, 'place': placeList, \n",
      "             'longitude': lonList, 'latitude': latList, 'altitude': altList,\n",
      "             'magnitude': magList}\n",
      "\n",
      "with open('quakes.dict', 'wb') as f:\n",
      "    dump(allQuakes, f)"
     ],
     "language": "python",
     "metadata": {},
     "outputs": [],
     "prompt_number": 135
    },
    {
     "cell_type": "heading",
     "level": 2,
     "metadata": {},
     "source": [
      "LOAD DATA FROM THE LOCAL PICKLE FILE"
     ]
    },
    {
     "cell_type": "code",
     "collapsed": false,
     "input": [
      "with open('quakes.dict', 'rb') as f:\n",
      "    allQuakes = load(f)"
     ],
     "language": "python",
     "metadata": {},
     "outputs": [],
     "prompt_number": 136
    },
    {
     "cell_type": "markdown",
     "metadata": {},
     "source": [
      "**Turn the dict into a Pandas Dataframe**"
     ]
    },
    {
     "cell_type": "code",
     "collapsed": false,
     "input": [
      "df = pd.DataFrame(allQuakes)\n",
      "df"
     ],
     "language": "python",
     "metadata": {},
     "outputs": [
      {
       "html": [
        "<div style=\"max-height:1000px;max-width:1500px;overflow:auto;\">\n",
        "<table border=\"1\" class=\"dataframe\">\n",
        "  <thead>\n",
        "    <tr style=\"text-align: right;\">\n",
        "      <th></th>\n",
        "      <th>altitude</th>\n",
        "      <th>latitude</th>\n",
        "      <th>longitude</th>\n",
        "      <th>magnitude</th>\n",
        "      <th>place</th>\n",
        "      <th>src</th>\n",
        "      <th>time</th>\n",
        "    </tr>\n",
        "  </thead>\n",
        "  <tbody>\n",
        "    <tr>\n",
        "      <th>0</th>\n",
        "      <td>  7.98</td>\n",
        "      <td> 26.2676</td>\n",
        "      <td>-110.1778</td>\n",
        "      <td> 6.5</td>\n",
        "      <td>          75km SW of Etchoropo, Mexico</td>\n",
        "      <td>      ,pt,at,us,</td>\n",
        "      <td> 1382205296970</td>\n",
        "    </tr>\n",
        "    <tr>\n",
        "      <th>1</th>\n",
        "      <td> 54.06</td>\n",
        "      <td> -6.4873</td>\n",
        "      <td> 154.9280</td>\n",
        "      <td> 6.8</td>\n",
        "      <td> 64km WSW of Panguna, Papua New Guinea</td>\n",
        "      <td> ,pt,at,us,gcmt,</td>\n",
        "      <td> 1381919460930</td>\n",
        "    </tr>\n",
        "    <tr>\n",
        "      <th>2</th>\n",
        "      <td> 20.00</td>\n",
        "      <td>  9.8662</td>\n",
        "      <td> 124.0115</td>\n",
        "      <td> 7.1</td>\n",
        "      <td>      2km NE of Catigbian, Philippines</td>\n",
        "      <td> ,us,pt,at,gcmt,</td>\n",
        "      <td> 1381795952900</td>\n",
        "    </tr>\n",
        "  </tbody>\n",
        "</table>\n",
        "</div>"
       ],
       "metadata": {},
       "output_type": "pyout",
       "prompt_number": 137,
       "text": [
        "   altitude  latitude  longitude  magnitude  \\\n",
        "0      7.98   26.2676  -110.1778        6.5   \n",
        "1     54.06   -6.4873   154.9280        6.8   \n",
        "2     20.00    9.8662   124.0115        7.1   \n",
        "\n",
        "                                   place              src           time  \n",
        "0           75km SW of Etchoropo, Mexico       ,pt,at,us,  1382205296970  \n",
        "1  64km WSW of Panguna, Papua New Guinea  ,pt,at,us,gcmt,  1381919460930  \n",
        "2       2km NE of Catigbian, Philippines  ,us,pt,at,gcmt,  1381795952900  "
       ]
      }
     ],
     "prompt_number": 137
    },
    {
     "cell_type": "heading",
     "level": 2,
     "metadata": {},
     "source": [
      "Visualization using Folium and BaseMap"
     ]
    },
    {
     "cell_type": "code",
     "collapsed": false,
     "input": [
      "import folium\n",
      "import requests"
     ],
     "language": "python",
     "metadata": {},
     "outputs": [],
     "prompt_number": 138
    },
    {
     "cell_type": "markdown",
     "metadata": {},
     "source": [
      "**Get the current coordinates using Google Maps API**"
     ]
    },
    {
     "cell_type": "code",
     "collapsed": false,
     "input": [
      "def getCurrentLocation(address):\n",
      "    data = {'address': address, 'sensor': 'false'}\n",
      "    r = requests.get(\"http://maps.googleapis.com/maps/api/geocode/json?\", params=data)\n",
      "    result = r.json()\n",
      "    \n",
      "    # Uncomment this next line if you want to see the structure of the data\n",
      "    # pprint(result)\n",
      "    \n",
      "    loc = result['results'][0]['geometry']['location']\n",
      "    return loc['lat'], loc['lng']"
     ],
     "language": "python",
     "metadata": {},
     "outputs": [],
     "prompt_number": 139
    },
    {
     "cell_type": "markdown",
     "metadata": {},
     "source": [
      "**Get the current location for the map default**"
     ]
    },
    {
     "cell_type": "code",
     "collapsed": false,
     "input": [
      "address = '101 Sproul Hall, Berkeley, CA 94704'\n",
      "currentLat, currentLon = getCurrentLocation(address)"
     ],
     "language": "python",
     "metadata": {},
     "outputs": [],
     "prompt_number": 140
    },
    {
     "cell_type": "heading",
     "level": 2,
     "metadata": {},
     "source": [
      "**Creates a map, and allows popover latlon**"
     ]
    },
    {
     "cell_type": "code",
     "collapsed": false,
     "input": [
      "map = folium.Map(location=[currentLat, currentLon], width=1200, height = 600, zoom_start=2)"
     ],
     "language": "python",
     "metadata": {},
     "outputs": [],
     "prompt_number": 141
    },
    {
     "cell_type": "heading",
     "level": 2,
     "metadata": {},
     "source": [
      "Mark each of the earthquake location"
     ]
    },
    {
     "cell_type": "code",
     "collapsed": false,
     "input": [
      "for i in range(len(df)):\n",
      "    lat = df.at[i, 'latitude']\n",
      "    lon = df.at[i, 'longitude']\n",
      "    mag = df.at[i, 'magnitude']\n",
      "    place = df.at[i, 'place']\n",
      "    map.circle_marker(location=[lat, lon], popup=str(place), radius=mag,\n",
      "                       fill_color='#132b5e')"
     ],
     "language": "python",
     "metadata": {},
     "outputs": [],
     "prompt_number": 149
    },
    {
     "cell_type": "markdown",
     "metadata": {},
     "source": [
      "**Create the map as an html file, and then you can open it with: $open test.html**"
     ]
    },
    {
     "cell_type": "code",
     "collapsed": false,
     "input": [
      "map.create_map(path='test.html')"
     ],
     "language": "python",
     "metadata": {},
     "outputs": [],
     "prompt_number": 150
    }
   ],
   "metadata": {}
  }
 ]
}