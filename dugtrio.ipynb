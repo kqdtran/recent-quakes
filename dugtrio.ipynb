{
 "metadata": {
  "name": ""
 },
 "nbformat": 3,
 "nbformat_minor": 0,
 "worksheets": [
  {
   "cells": [
    {
     "cell_type": "markdown",
     "metadata": {},
     "source": [
      "**Import the necessary packages, and load data from the usgs url**"
     ]
    },
    {
     "cell_type": "code",
     "collapsed": false,
     "input": [
      "import urllib\n",
      "import json\n",
      "from cPickle import load, dump\n",
      "import pandas as pd\n",
      "from pprint import pprint\n",
      "\n",
      "url = 'http://earthquake.usgs.gov/earthquakes/feed/v1.0/summary/significant_week.geojson'\n",
      "d = json.loads(urllib.urlopen(url).read())\n",
      "\n",
      "data = pd.DataFrame(d.items())"
     ],
     "language": "python",
     "metadata": {},
     "outputs": [],
     "prompt_number": 14
    },
    {
     "cell_type": "code",
     "collapsed": false,
     "input": [
      "data"
     ],
     "language": "python",
     "metadata": {},
     "outputs": [
      {
       "html": [
        "<div style=\"max-height:1000px;max-width:1500px;overflow:auto;\">\n",
        "<table border=\"1\" class=\"dataframe\">\n",
        "  <thead>\n",
        "    <tr style=\"text-align: right;\">\n",
        "      <th></th>\n",
        "      <th>0</th>\n",
        "      <th>1</th>\n",
        "    </tr>\n",
        "  </thead>\n",
        "  <tbody>\n",
        "    <tr>\n",
        "      <th>0</th>\n",
        "      <td>     type</td>\n",
        "      <td>                                 FeatureCollection</td>\n",
        "    </tr>\n",
        "    <tr>\n",
        "      <th>1</th>\n",
        "      <td> features</td>\n",
        "      <td> [{u'geometry': {u'type': u'Point', u'coordinat...</td>\n",
        "    </tr>\n",
        "    <tr>\n",
        "      <th>2</th>\n",
        "      <td>     bbox</td>\n",
        "      <td>   [23.2605, -6.4873, 20, 154.928, 35.4866, 54.06]</td>\n",
        "    </tr>\n",
        "    <tr>\n",
        "      <th>3</th>\n",
        "      <td> metadata</td>\n",
        "      <td> {u'status': 200, u'count': 3, u'title': u'USGS...</td>\n",
        "    </tr>\n",
        "  </tbody>\n",
        "</table>\n",
        "</div>"
       ],
       "metadata": {},
       "output_type": "pyout",
       "prompt_number": 2,
       "text": [
        "          0                                                  1\n",
        "0      type                                  FeatureCollection\n",
        "1  features  [{u'geometry': {u'type': u'Point', u'coordinat...\n",
        "2      bbox    [23.2605, -6.4873, 20, 154.928, 35.4866, 54.06]\n",
        "3  metadata  {u'status': 200, u'count': 3, u'title': u'USGS..."
       ]
      }
     ],
     "prompt_number": 2
    },
    {
     "cell_type": "markdown",
     "metadata": {},
     "source": [
      "**Retrieve the features, i.e. all the earthquake data**"
     ]
    },
    {
     "cell_type": "code",
     "collapsed": false,
     "input": [
      "features = data[1].values[1]"
     ],
     "language": "python",
     "metadata": {},
     "outputs": [],
     "prompt_number": 10
    },
    {
     "cell_type": "heading",
     "level": 2,
     "metadata": {},
     "source": [
      "*Note: ONLY EXECUTE THIS NEXT TWO BLOCKS IF YOU WANT TO EXTRACT NEW LIVE DATA. OTHERWISE SEE BELOW*"
     ]
    },
    {
     "cell_type": "markdown",
     "metadata": {},
     "source": [
      "**Loop over each earthquake, extract the important data like lat, lon, magnitude, etc.**"
     ]
    },
    {
     "cell_type": "code",
     "collapsed": false,
     "input": [
      "latList = []    # Latitude\n",
      "lonList = []    # Longitude\n",
      "altList = []    # Altitude\n",
      "magList = []    # Magnitude\n",
      "srcList = []    # Source\n",
      "placeList = []  # Place\n",
      "timeList = []   # Time\n",
      "\n",
      "for item in features:\n",
      "    geometry = item['geometry']\n",
      "    properties = item['properties']\n",
      "    \n",
      "    # Extract coordinates\n",
      "    lonList.append(geometry['coordinates'][0])\n",
      "    latList.append(geometry['coordinates'][1])\n",
      "    altList.append(geometry['coordinates'][2])\n",
      "    \n",
      "    # Extract other information\n",
      "    srcList.append(properties['sources'])\n",
      "    placeList.append(properties['place'])\n",
      "    timeList.append(properties['time'])\n",
      "    magList.append(properties['mag'])"
     ],
     "language": "python",
     "metadata": {},
     "outputs": [],
     "prompt_number": 15
    },
    {
     "cell_type": "markdown",
     "metadata": {},
     "source": [
      "**Turn data into a dictionary, and dump it into a pickle file for local cache**"
     ]
    },
    {
     "cell_type": "code",
     "collapsed": false,
     "input": [
      "allQuakes = {'src': srcList, 'time': timeList, 'place': placeList, \n",
      "             'longitude': lonList, 'latitude': latList, 'altitude': altList,\n",
      "             'magnitude': magList}\n",
      "\n",
      "with open('quakes.dict', 'wb') as f:\n",
      "    dump(allQuakes, f)"
     ],
     "language": "python",
     "metadata": {},
     "outputs": [],
     "prompt_number": 17
    },
    {
     "cell_type": "heading",
     "level": 2,
     "metadata": {},
     "source": [
      "LOAD DATA FROM THE LOCAL PICKLE FILE"
     ]
    },
    {
     "cell_type": "code",
     "collapsed": false,
     "input": [
      "with open('quakes.dict', 'rb') as f:\n",
      "    allQuakes = load(f)"
     ],
     "language": "python",
     "metadata": {},
     "outputs": [],
     "prompt_number": 18
    },
    {
     "cell_type": "markdown",
     "metadata": {},
     "source": [
      "**Turn the dict into a Pandas Dataframe**"
     ]
    },
    {
     "cell_type": "code",
     "collapsed": false,
     "input": [
      "df = pd.DataFrame(allQuakes)\n",
      "df"
     ],
     "language": "python",
     "metadata": {},
     "outputs": [
      {
       "html": [
        "<div style=\"max-height:1000px;max-width:1500px;overflow:auto;\">\n",
        "<table border=\"1\" class=\"dataframe\">\n",
        "  <thead>\n",
        "    <tr style=\"text-align: right;\">\n",
        "      <th></th>\n",
        "      <th>altitude</th>\n",
        "      <th>latitude</th>\n",
        "      <th>longitude</th>\n",
        "      <th>magnitude</th>\n",
        "      <th>place</th>\n",
        "      <th>src</th>\n",
        "      <th>time</th>\n",
        "    </tr>\n",
        "  </thead>\n",
        "  <tbody>\n",
        "    <tr>\n",
        "      <th>0</th>\n",
        "      <td> 54.06</td>\n",
        "      <td> -6.4873</td>\n",
        "      <td> 154.9280</td>\n",
        "      <td> 6.8</td>\n",
        "      <td> 64km WSW of Panguna, Papua New Guinea</td>\n",
        "      <td> ,pt,at,us,gcmt,</td>\n",
        "      <td> 1381919460930</td>\n",
        "    </tr>\n",
        "    <tr>\n",
        "      <th>1</th>\n",
        "      <td> 20.00</td>\n",
        "      <td>  9.8662</td>\n",
        "      <td> 124.0115</td>\n",
        "      <td> 7.1</td>\n",
        "      <td>      2km NE of Catigbian, Philippines</td>\n",
        "      <td> ,us,pt,at,gcmt,</td>\n",
        "      <td> 1381795952900</td>\n",
        "    </tr>\n",
        "    <tr>\n",
        "      <th>2</th>\n",
        "      <td> 36.19</td>\n",
        "      <td> 35.4866</td>\n",
        "      <td>  23.2605</td>\n",
        "      <td> 6.4</td>\n",
        "      <td>            30km W of Platanos, Greece</td>\n",
        "      <td>       ,us,gcmt,</td>\n",
        "      <td> 1381583512440</td>\n",
        "    </tr>\n",
        "  </tbody>\n",
        "</table>\n",
        "</div>"
       ],
       "metadata": {},
       "output_type": "pyout",
       "prompt_number": 19,
       "text": [
        "   altitude  latitude  longitude  magnitude  \\\n",
        "0     54.06   -6.4873   154.9280        6.8   \n",
        "1     20.00    9.8662   124.0115        7.1   \n",
        "2     36.19   35.4866    23.2605        6.4   \n",
        "\n",
        "                                   place              src           time  \n",
        "0  64km WSW of Panguna, Papua New Guinea  ,pt,at,us,gcmt,  1381919460930  \n",
        "1       2km NE of Catigbian, Philippines  ,us,pt,at,gcmt,  1381795952900  \n",
        "2             30km W of Platanos, Greece        ,us,gcmt,  1381583512440  "
       ]
      }
     ],
     "prompt_number": 19
    }
   ],
   "metadata": {}
  }
 ]
}